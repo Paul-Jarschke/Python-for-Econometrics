{
 "cells": [
  {
   "attachments": {},
   "cell_type": "markdown",
   "metadata": {},
   "source": [
    "# Exercises A\n",
    "_Version: February 14, 2022, see_ [PyEcon.org](https://pyecon.org)."
   ]
  },
  {
   "cell_type": "code",
   "execution_count": 25,
   "metadata": {},
   "outputs": [
    {
     "data": {
      "text/plain": [
       "1"
      ]
     },
     "execution_count": 25,
     "metadata": {},
     "output_type": "execute_result"
    }
   ],
   "source": [
    "import numpy as np\n",
    "\n",
    "l = [1,2,3]\n",
    "min(l)"
   ]
  },
  {
   "attachments": {},
   "cell_type": "markdown",
   "metadata": {},
   "source": [
    "### Exercise 1\n",
    "Create a function which takes a vector $v=(v_1, \\dots ,v_n)$ and returns the Vandermonde matrix $V$:\n",
    "$$\n",
    "V = \\left(\\begin{array}{ccccc}\n",
    "1 & v_1 & v_1^2 & \\dots & v_1^{n-1}\\\\\n",
    "1 & v_2 & v_2^2 & \\dots & v_2^{n-1}\\\\\n",
    "\\vdots & \\vdots & \\vdots & \\vdots & \\vdots\\\\\n",
    "1 & v_n & v_n^2 & \\dots & v_n^{n-1}\\\\\n",
    "\\end{array} \\right)\n",
    "$$"
   ]
  },
  {
   "cell_type": "code",
   "execution_count": 26,
   "metadata": {},
   "outputs": [
    {
     "data": {
      "text/plain": [
       "array([[1., 1., 1.],\n",
       "       [1., 2., 4.],\n",
       "       [1., 3., 9.]])"
      ]
     },
     "execution_count": 26,
     "metadata": {},
     "output_type": "execute_result"
    }
   ],
   "source": [
    "# Enter your codes here...\n",
    "import numpy as np\n",
    "\n",
    "\n",
    "def vandermonde(vec):\n",
    "\n",
    "    n = len(vec)\n",
    "    mat = np.empty((n,n))\n",
    "\n",
    "    for i in range(n):\n",
    "        for j in range(n):\n",
    "            mat[i,j] = vec[i]**j\n",
    "\n",
    "    return(mat)\n",
    "\n",
    "vandermonde(np.array([1,2,3]))"
   ]
  },
  {
   "cell_type": "code",
   "execution_count": 27,
   "metadata": {},
   "outputs": [
    {
     "data": {
      "text/plain": [
       "array([[0., 0., 0., 0.],\n",
       "       [0., 0., 0., 0.],\n",
       "       [0., 0., 0., 0.],\n",
       "       [0., 0., 0., 0.]])"
      ]
     },
     "execution_count": 27,
     "metadata": {},
     "output_type": "execute_result"
    }
   ],
   "source": [
    "np.zeros((4,4))"
   ]
  },
  {
   "cell_type": "code",
   "execution_count": 28,
   "metadata": {},
   "outputs": [
    {
     "data": {
      "text/plain": [
       "array([[0., 0., 0., 0.],\n",
       "       [0., 0., 0., 0.],\n",
       "       [0., 0., 0., 0.],\n",
       "       [0., 0., 0., 0.]])"
      ]
     },
     "execution_count": 28,
     "metadata": {},
     "output_type": "execute_result"
    }
   ],
   "source": [
    "np.empty(shape = (4,4))"
   ]
  },
  {
   "cell_type": "code",
   "execution_count": 29,
   "metadata": {},
   "outputs": [
    {
     "data": {
      "text/plain": [
       "False"
      ]
     },
     "execution_count": 29,
     "metadata": {},
     "output_type": "execute_result"
    }
   ],
   "source": [
    "# Ones and empty are identlical\n",
    "(np.ones(shape = (4,4)) == np.empty(shape=(4,4))).all()"
   ]
  },
  {
   "attachments": {},
   "cell_type": "markdown",
   "metadata": {},
   "source": [
    "### Exercise 2\n",
    "\n",
    "Create a function which takes a vector $v=(v_1, \\dots ,v_n)$ and returns the mean and the sum of the vector.\n",
    "\n",
    "1. Solve the task by using NumPy.\n",
    "2. Solve the task without importing modules."
   ]
  },
  {
   "cell_type": "code",
   "execution_count": 30,
   "metadata": {},
   "outputs": [
    {
     "name": "stdout",
     "output_type": "stream",
     "text": [
      "(2.0, 6)\n",
      "(2.0, 6)\n"
     ]
    }
   ],
   "source": [
    "import numpy as np\n",
    "\n",
    "def mean_sum(vec):\n",
    "\n",
    "    sum = np.sum(vec)\n",
    "    mean = np.mean(vec)\n",
    "\n",
    "    return(mean, sum)\n",
    "\n",
    "print(mean_sum(np.array([1,2,3])))\n",
    "\n",
    "\n",
    "def mean_sum_hand(vec):\n",
    "\n",
    "    n = len(vec)\n",
    "    sum = 0\n",
    "\n",
    "    for i in vec:\n",
    "        sum += i\n",
    "\n",
    "    mean = sum/n\n",
    "\n",
    "    return(mean, sum)\n",
    "\n",
    "print(mean_sum_hand(np.array([1,2,3])))\n"
   ]
  },
  {
   "attachments": {},
   "cell_type": "markdown",
   "metadata": {},
   "source": [
    "### Exercise 3\n",
    "\n",
    "Use NumPy to check if the following vectors are linearly independent:\n",
    "\n",
    "$$\n",
    "v_1=\n",
    "\\left( \\begin{array}{c} 0 \\\\ 1 \\\\ 2 \\\\ 1 \\end{array} \\right),\n",
    "\\ v_2=\n",
    "\\left( \\begin{array}{c} 4 \\\\ 2 \\\\ 2 \\\\ 2 \\end{array} \\right),\n",
    "\\ v_3=\n",
    " \\left( \\begin{array}{c} 1 \\\\ 0 \\\\ 3 \\\\  0\\end{array} \\right),\n",
    "\\ v_4=\n",
    " \\left( \\begin{array}{c} 1 \\\\ 0 \\\\ 0 \\\\ 0 \\end{array} \\right).\n",
    "$$"
   ]
  },
  {
   "cell_type": "code",
   "execution_count": 31,
   "metadata": {},
   "outputs": [
    {
     "name": "stdout",
     "output_type": "stream",
     "text": [
      "Matrix 1:\n",
      "[[0 4 1 1]\n",
      " [1 2 0 0]\n",
      " [2 2 3 0]\n",
      " [1 2 0 0]]\n",
      "\n",
      "Matrix 2:\n",
      "[[0 4 1 1]\n",
      " [1 2 0 0]\n",
      " [2 2 3 0]\n",
      " [1 2 0 0]]\n",
      "\n",
      "The vectors are linearly independent!\n"
     ]
    }
   ],
   "source": [
    "import numpy.linalg as nplin\n",
    "\n",
    "# Solution 1\n",
    "vec1 = np.array([0,1,2,1]).reshape((4,1))\n",
    "vec2 = np.array([4,2,2,2]).reshape((4,1))\n",
    "vec3 = np.array([1,0,3,0]).reshape((4,1))\n",
    "vec4 = np.array([1,0,0,0]).reshape((4,1))\n",
    "\n",
    "mat1 = np.concatenate((vec1, vec2, vec3, vec4), axis = 1)\n",
    "\n",
    "print(f'Matrix 1:\\n{mat1}\\n')\n",
    "\n",
    "# Solution 2\n",
    "\n",
    "mat2 = np.array([[0,4,1,1],\n",
    "                [1,2,0,0],\n",
    "                [2,2,3,0],\n",
    "                [1,2,0,0]])\n",
    "\n",
    "print(f'Matrix 2:\\n{mat2}\\n')\n",
    "\n",
    "\n",
    "def check_independence(mat):\n",
    "    '''\n",
    "    Linear independence is given is the matrix with vectors as columns has the determinant 0.\n",
    "    '''\n",
    "    if nplin.det(mat) == 0:\n",
    "        print('The vectors are linearly independent!')\n",
    "    else:\n",
    "        print('The vecotrs are lienarly dependent!')\n",
    "\n",
    "check_independence(mat1)"
   ]
  },
  {
   "attachments": {},
   "cell_type": "markdown",
   "metadata": {},
   "source": [
    "### Exercise 4\n",
    "\n",
    "Create a function which sorts the vector $v=(v_1, \\dots ,v_n)$ without using the built-in `array.sort()` function and visualize the result in a graph."
   ]
  },
  {
   "cell_type": "code",
   "execution_count": 32,
   "metadata": {},
   "outputs": [
    {
     "name": "stdout",
     "output_type": "stream",
     "text": [
      "Bubble sort: [  1   2   2   3   5   7  63 346]\n",
      "NumPy sort:  [  1   2   2   3   5   7  63 346]\n"
     ]
    },
    {
     "data": {
      "text/plain": [
       "[<matplotlib.lines.Line2D at 0x235d0857750>]"
      ]
     },
     "execution_count": 32,
     "metadata": {},
     "output_type": "execute_result"
    },
    {
     "data": {
      "image/png": "[encoded data removed]",
      "text/plain": [
       "<Figure size 640x480 with 1 Axes>"
      ]
     },
     "metadata": {},
     "output_type": "display_data"
    }
   ],
   "source": [
    "vec = np.array([1,2,5,3,346,7,2,63])\n",
    "\n",
    "# Bubble sort\n",
    "def bubble_sort(vec):\n",
    "\n",
    "    n = len(vec)\n",
    "\n",
    "    # Number of passes performed on the list#\n",
    "    # In each pass, the largest element \"bubbles up\" to its correct position at the end of the list\n",
    "    for i in range(n-1):\n",
    "\n",
    "        # iterate over  elements that are still unsorted\n",
    "        #n-1-i optimizes the algorithm, since the last i elements are already sorted\n",
    "        for j in range(n-1):\n",
    "            \n",
    "            # Pairwise variable swap if following number is smaller\n",
    "            if vec[j] > vec[j+1]:\n",
    "                vec[j], vec[j+1] = vec[j+1], vec[j]\n",
    "            else:\n",
    "                pass\n",
    "    return vec\n",
    "\n",
    "print(f'Bubble sort: {bubble_sort(vec)}')\n",
    "print(f'NumPy sort:  {np.sort(vec)}')\n",
    "\n",
    "\n",
    "import matplotlib.pyplot as plt\n",
    "%matplotlib inline\n",
    "\n",
    "v = np.array([4, 7, 22, 56, 8, -2, 34, 1, 5, 45])\n",
    "\n",
    "\n",
    "def bubblesort(v):\n",
    "\n",
    "    # Range object starting from the back\n",
    "    for k in range(len(v)-1, 0, -1): #range(start, stop, step)\n",
    "        for i in range(k):\n",
    "            if v[i] > v[i+1]:\n",
    "                v[i], v[i+1] = v[i+1], v[i]\n",
    "    return v\n",
    "\n",
    "\n",
    "# Lineplot of sorted values\n",
    "plt.plot(bubblesort(v))"
   ]
  },
  {
   "attachments": {},
   "cell_type": "markdown",
   "metadata": {},
   "source": [
    "### Exercise 5\n",
    "\n",
    "Determine the intersection of the straight line $g$ and the plane $E$:\n",
    "\n",
    "$$g: \\vec{x}=\\left ( \\begin{array}{c} 2 \\\\ 3 \\\\ 0 \\end{array} \\right) +t\\left ( \\begin{array}{c} 1 \\\\ -2 \\\\ 2 \\end{array} \\right), \\quad t \\in \\mathbb{R},$$\n",
    "$$E: \\vec{x}= \\left ( \\begin{array}{c} 9 \\\\ 0 \\\\ 0 \\end{array} \\right) + r\\left ( \\begin{array}{c} -9 \\\\ 4.5 \\\\ 0 \\end{array} \\right) +s\\left ( \\begin{array}{c} -9 \\\\ 0 \\\\ 4.5 \\end{array} \\right), \\quad r,s\\in \\mathbb{R}.$$\n",
    "\n",
    "_Hint: You might want to refresh your knowledge of the parametric form at, for example,_ https://en.wikipedia.org/wiki/Line-plane_intersection."
   ]
  },
  {
   "cell_type": "code",
   "execution_count": 33,
   "metadata": {},
   "outputs": [
    {
     "name": "stdout",
     "output_type": "stream",
     "text": [
      "[2 3 0]\n",
      "[9. 0. 0.]\n",
      "Matrix b:\n",
      "[-7.  3.  0.]\n",
      "\n",
      "Matrix a:\n",
      "[[-1.  -9.  -9. ]\n",
      " [ 2.   4.5  0. ]\n",
      " [-2.   0.   4.5]]\n"
     ]
    },
    {
     "data": {
      "text/plain": [
       "array([1.        , 0.22222222, 0.44444444])"
      ]
     },
     "execution_count": 33,
     "metadata": {},
     "output_type": "execute_result"
    }
   ],
   "source": [
    "import numpy.linalg as nplin\n",
    "\n",
    "# defining matrices\n",
    "g = np.array([[2, 1],\n",
    "              [3, -2],\n",
    "              [0, 2]])\n",
    "e = np.array([[9, -9, -9],\n",
    "              [0, 4.5, 0],\n",
    "              [0, 0, 4.5]])\n",
    "\n",
    "print(g[:, 0])\n",
    "print(e[:, 0])\n",
    "\n",
    "# form system of linear equations: Ax = b\n",
    "b = g[:, 0] - e[:, 0]\n",
    "a = np.column_stack([-g[:, 1], e[:, 1:]])\n",
    "\n",
    "print(f'Matrix b:\\n{b}\\n')\n",
    "print(f'Matrix a:\\n{a}')\n",
    "\n",
    "# solve system for x\n",
    "x = nplin.solve(a, b)\n",
    "x"
   ]
  },
  {
   "attachments": {},
   "cell_type": "markdown",
   "metadata": {
    "collapsed": false,
    "inputHidden": false,
    "outputHidden": false
   },
   "source": [
    "### Exercise 6: Sorting algorithms\n",
    "\n",
    "Sorting algorithms are algorithms that put elements of a list in a certain order. Efficient sorting is important for optimizing the efficiency of complex algorithms. There are different sorting algorithms which differ in time complexity.\n",
    "\n",
    "1. Implement a function which uses _Bubblesort_ to sort a randomly generated list (numbers) in numerical order.\n",
    "2. Implement a function which uses _Quicksort_ achieve the same goal.\n",
    "\n",
    "_Hint: Inform yourself about the two different sorting algorithms first, for example,_\n",
    "https://en.wikipedia.org/wiki/Bubble_sort _and_ https://en.wikipedia.org/wiki/Quicksort."
   ]
  },
  {
   "cell_type": "code",
   "execution_count": 38,
   "metadata": {},
   "outputs": [
    {
     "name": "stdout",
     "output_type": "stream",
     "text": [
      "Sorted array: [-9971, -9818, -9452, -9143, -8388, -8186, -7568, -7521, -7480, -7478, -7027, -6879, -6781, -6630, -6432, -6391, -6373, -6254, -6117, -6094, -5896, -5539, -5454, -5304, -5216, -5128, -5078, -5056, -4787, -4063, -4011, -3820, -3642, -3201, -3033, -2815, -2809, -2695, -2400, -2278, -2237, -1762, -1610, -1597, -1553, -1421, -1007, -927, -839, -824, -695, -688, -480, 48, 178, 699, 791, 912, 914, 1223, 1363, 1384, 1570, 1706, 1853, 1967, 2085, 2131, 2384, 2461, 2639, 2817, 3067, 3343, 3696, 3741, 3991, 4716, 4976, 5132, 5193, 5197, 5290, 5451, 5481, 5834, 6261, 6556, 7053, 7193, 7247, 7676, 7750, 8403, 8831, 8919, 8993, 9051, 9069, 9240]\n"
     ]
    }
   ],
   "source": [
    "import random\n",
    "\n",
    "np.random.seed(seed=42)\n",
    "\n",
    "numbers = []\n",
    "for i in range(100):\n",
    "    numbers.append(random.randint(-10000, 10000))\n",
    "\n",
    "\n",
    "def bubble_sort(lst):\n",
    "\n",
    "    n = len(lst)\n",
    "\n",
    "    for i in range(n-1):\n",
    "        for j in range(n-i-1):\n",
    "            if lst[j] > lst[j+1]:\n",
    "                lst[j], lst[j+1] = lst[j+1], lst[j]\n",
    "            else:\n",
    "                pass\n",
    "    return(lst)\n",
    "\n",
    "print(f'Sorted array: {bubble_sort(numbers)}')"
   ]
  },
  {
   "attachments": {},
   "cell_type": "markdown",
   "metadata": {},
   "source": [
    "# Quicksort\n",
    "\n",
    "1. Select the Pivot Element\n",
    "\n",
    "There are different variations of quicksort where the pivot element is selected from different positions. Here, we will be selecting the rightmost element of the array as the pivot element.\n",
    "\n",
    "2. Rearrange the Array\n",
    "\n",
    "Now the elements of the array are rearranged so that elements that are smaller than the pivot are put on the left and the elements greater than the pivot are put on the right.\n",
    "\n"
   ]
  },
  {
   "cell_type": "code",
   "execution_count": 35,
   "metadata": {},
   "outputs": [
    {
     "name": "stdout",
     "output_type": "stream",
     "text": [
      "Sorted array: [-9820, -9763, -9342, -8720, -8568, -8420, -7919, -7861, -7618, -7531, -7210, -7185, -7106, -7070, -6741, -6667, -5984, -5887, -5872, -5752, -5579, -5500, -5443, -5178, -4981, -4753, -4587, -4524, -4272, -4256, -4255, -3649, -3642, -3374, -3215, -3169, -3098, -2663, -2363, -2341, -1256, -1209, -1023, -827, -570, 10, 407, 458, 838, 842, 919, 977, 1177, 1321, 1410, 1502, 1541, 1575, 1818, 2075, 2218, 2486, 2626, 2769, 3082, 3130, 3151, 3196, 3285, 3385, 4377, 4524, 4969, 5095, 5316, 5401, 5417, 5652, 5709, 5746, 5783, 5865, 6260, 6362, 6510, 6764, 7098, 7338, 7557, 7822, 7891, 7925, 8198, 8550, 8637, 8641, 9275, 9413, 9653, 9731]\n"
     ]
    }
   ],
   "source": [
    "# Quicksort\n",
    "\n",
    "def partition(numbers, low, high):\n",
    "    '''\n",
    "    The logic is simple, we start from the leftmost element and keep track of the index of smaller (or equal) elements as i.\n",
    "    While traversing, if we find a smaller element, we swap the current element with arr[i]. Otherwise, we ignore the current element.\n",
    "    '''\n",
    "\n",
    "    # Initialize the index of the smaller element\n",
    "    i = low - 1 \n",
    "\n",
    "    # Select the pivot element (last element in the array)\n",
    "    pivot = numbers[high]  \n",
    "\n",
    "    for j in range(low, high):\n",
    "\n",
    "        if numbers[j] <= pivot:\n",
    "            i += 1\n",
    "            # Swap the current element with the element at the smaller index\n",
    "            numbers[i], numbers[j] = numbers[j], numbers[i]\n",
    "\n",
    "    # Swap the pivot element with the element at the appropriate position\n",
    "    numbers[i+1], numbers[high] = numbers[high], numbers[i+1]\n",
    "\n",
    "    # Return the position of the pivot element after rearrangement\n",
    "    return i + 1  \n",
    "\n",
    "\n",
    "def quicksort(numbers, low, high):\n",
    "\n",
    "    if low < high:\n",
    "\n",
    "        # Partition the array and obtain the position of the pivot element\n",
    "        p = partition(numbers, low, high)\n",
    "\n",
    "        # Recursively sort the sub-array to the left of the pivot\n",
    "        quicksort(numbers, low, p-1)\n",
    "\n",
    "        # Recursively sort the sub-array to the right of the pivot\n",
    "        quicksort(numbers, p+1, high)\n",
    "\n",
    "    # Return the sorted array\n",
    "    return numbers  \n",
    "\n",
    "# Call the quicksort function with the initial low and high indices\n",
    "# Function call\n",
    "print(f'Sorted array: {(quicksort(numbers, 0, len(numbers) - 1))}')"
   ]
  },
  {
   "attachments": {},
   "cell_type": "markdown",
   "metadata": {
    "collapsed": false,
    "inputHidden": false,
    "outputHidden": false
   },
   "source": [
    "### Exercise 7: Numerical differentiation\n",
    "\n",
    "1. Create a function which estimates the derivative of the function $f$ at the position $x=3$. You can use the simple finite difference formula:\n",
    "\n",
    "    $$\n",
    "    f'(x)=\\lim_{h \\rightarrow 0} \\dfrac{f(x+h) - f(x)}{h}\n",
    "    $$\n",
    "\n",
    "    The derivative function in Python should take the function to be derived, the position $x$ and the distance $h$ as arguments.\n",
    "\n",
    "\n",
    "2. Create a function which estimates the gradient of a scalar function $g: \\mathbb{R}^{n}\\rightarrow \\mathbb{R}$. The arguments of the gradient function should be the function $g$, the dimension $n$, the vector $v$ where the gradient shall be estimated and the distance $h$. Check your gradient function on the given function $g$ and vector $v$.\n",
    "\n",
    "3. Create a function which returns an approximation of the Hessian matrix $h$ of the function $g$ at $v$:\n",
    "  $$\n",
    "  H_{g}(v) := \\left( \\dfrac{\\partial^{2} g}{\\partial v_{i} \\partial v_{j}} (v) \\right)_{i, j=1, \\ldots, n}\n",
    "  $$\n",
    "  You can use the following identity:\n",
    "  $$\n",
    "  \\dfrac{\\partial}{\\partial y}\\left(\\dfrac{\\partial g}{\\partial x}\\right)(v) =\\lim_{h \\rightarrow 0}\\dfrac{\\dfrac{\\partial g}{\\partial x}(x, y+h, z)-\\dfrac{\\partial g}{\\partial x}(x, y, z)}{h}\\\\\n",
    " =\\lim_{h \\rightarrow 0} \\dfrac{\\dfrac{g(x+h,y+h,z)-g(x,y+h,z)}{h}-\\dfrac{g(x+h, y, z)-g(x, y, z)}{h}}{h}\\\\\n",
    " =\\lim_{h \\rightarrow 0}\\dfrac{g(x+h, y+h, z)-g(x, y+h, z)-g(x+h, y, z)+g(x, y, z)}{h^{2}}\n",
    "  $$"
   ]
  },
  {
   "cell_type": "code",
   "execution_count": 54,
   "metadata": {},
   "outputs": [],
   "source": [
    "import numpy as np\n",
    "\n",
    "\n",
    "def f(x):\n",
    "    return x**2\n",
    "\n",
    "\n",
    "def g(v):\n",
    "    return np.sin(v[0]) * v[1] + np.exp(v[2])\n",
    "\n",
    "v = np.array([2., 3., 1.])"
   ]
  },
  {
   "attachments": {},
   "cell_type": "markdown",
   "metadata": {},
   "source": [
    "1. Derivative at position 1"
   ]
  },
  {
   "cell_type": "code",
   "execution_count": 68,
   "metadata": {},
   "outputs": [
    {
     "data": {
      "text/plain": [
       "[<matplotlib.lines.Line2D at 0x235d484c4d0>]"
      ]
     },
     "execution_count": 68,
     "metadata": {},
     "output_type": "execute_result"
    },
    {
     "data": {
      "image/png": "[encoded data removed]",
      "text/plain": [
       "<Figure size 640x480 with 1 Axes>"
      ]
     },
     "metadata": {},
     "output_type": "display_data"
    }
   ],
   "source": [
    "def derivation(f, x, h):\n",
    "    return (f(x + h) - f(x)) / h\n",
    "\n",
    "# vector of values to be calculated\n",
    "vals = np.linspace(start=0, stop = 10)\n",
    "\n",
    "df = derivation(f=f, x=vals, h=0.00001)\n",
    "\n",
    "# plot teh quadratic function\n",
    "plt.plot(vals, f(vals))\n",
    "\n",
    "# plot the derivative\n",
    "# the derivative at 3 is the slope of the function\n",
    "# the intercept is the value of the quadractic function - the \n",
    "plt.plot(vals, derivation(f, 3, 0.001) * vals + (f(3) - derivation(f, 3, 0.001)*3))\n"
   ]
  },
  {
   "attachments": {},
   "cell_type": "markdown",
   "metadata": {},
   "source": [
    "2. Estimate the gradient of the scalar function g"
   ]
  },
  {
   "cell_type": "code",
   "execution_count": 69,
   "metadata": {},
   "outputs": [
    {
     "data": {
      "text/plain": [
       "array([-1.24980425,  0.90929743,  2.71964142])"
      ]
     },
     "execution_count": 69,
     "metadata": {},
     "output_type": "execute_result"
    }
   ],
   "source": [
    "# Define a function g that takes a numpy array v as input\n",
    "def g(v):\n",
    "    # Calculate the value of the function using elements of v\n",
    "    return np.sin(v[0]) * v[1] + np.exp(v[2])\n",
    "\n",
    "# Create a numpy array v with values [2., 3., 1.]\n",
    "v = np.array([2., 3., 1.])\n",
    "\n",
    "# Define a function gradient that calculates the numerical gradient of function g at point v using a step size h\n",
    "def gradient(g, v, h):\n",
    "\n",
    "    # Get the number of elements in v\n",
    "    n = len(v)\n",
    "\n",
    "    # Create an empty numpy array to store the gradient values\n",
    "    grad = np.empty(n)\n",
    "\n",
    "    # Iterate over each element in v\n",
    "    for i in range(n):\n",
    "\n",
    "        # Create a copy of v and add h to the i-th element\n",
    "        hv = v.copy()\n",
    "        hv[i] += h\n",
    "\n",
    "        # Calculate the difference between g(hv) and g(v), and divide by h to approximate the gradient\n",
    "        grad[i] = (g(hv) - g(v)) / h\n",
    "        \n",
    "    # Return the gradient values\n",
    "    return grad\n",
    "\n",
    "# Calculate the gradient of function g at point v with a step size of 0.001\n",
    "gradient(g, v, 0.001)"
   ]
  },
  {
   "attachments": {},
   "cell_type": "markdown",
   "metadata": {},
   "source": [
    "3. Hessian matrix"
   ]
  },
  {
   "cell_type": "code",
   "execution_count": null,
   "metadata": {},
   "outputs": [],
   "source": [
    "# Define a function hessian that calculates the numerical Hessian matrix\n",
    "# of function g at point v using a step size h\n",
    "\n",
    "def hessian(g, v, h):\n",
    "\n",
    "    # Get the number of elements in v\n",
    "    n = len(v)\n",
    "\n",
    "    # Create an empty n x n numpy array to store the Hessian matrix\n",
    "    hes = np.empty([n, n])\n",
    "\n",
    "    # Iterate over each pair of elements in v\n",
    "    for i in range(n):\n",
    "        for j in range(n):\n",
    "\n",
    "            # Create copies of v and modify them by adding h to the corresponding elements\n",
    "            v1 = v.copy()\n",
    "            v1[i] += h\n",
    "\n",
    "            v2 = v1.copy()\n",
    "            v2[j] += h\n",
    "            \n",
    "            v4 = v.copy()\n",
    "            v4[j] += h\n",
    "            # Calculate the difference between g evaluated at different v values\n",
    "            # and divide by h^2 to approximate the second partial derivatives\n",
    "            hes[i][j] = (g(v2) - g(v1) - g(v4) + g(v)) / (h**2)\n",
    "    # Return the Hessian matrix\n",
    "    return hes\n",
    "\n",
    "# Call the hessian function with the g function, v, and a step size of 0.001\n",
    "hessian(g, v, 0.001)"
   ]
  },
  {
   "attachments": {},
   "cell_type": "markdown",
   "metadata": {
    "collapsed": false,
    "inputHidden": false,
    "outputHidden": false
   },
   "source": [
    "### Exercise 8: Numerical integration\n",
    "\n",
    "Create a function to approximate an integral of the function $f$ in the interval $(a, b)$. You can divide the area into $n$ equal width rectangles and add these up by using the formula:\n",
    "$$\n",
    "\\int_{a}^{b}f(x) \\approx \\dfrac{b-a}{n}\\left(f(x_{1})+f(x_{2})+...+f(x_{n})\\right)\n",
    "$$\n",
    "Where $x_{i}$ is given by $x_{i}=\\dfrac{(b-a)}{n} \\cdot i+a$.\n",
    "Check your integral approximation on the given function $f$ in the interval (1,4)."
   ]
  },
  {
   "cell_type": "code",
   "execution_count": 70,
   "metadata": {},
   "outputs": [],
   "source": [
    "def f(x):\n",
    "    return x**3 + 2 * x**2 + 1\n"
   ]
  },
  {
   "cell_type": "code",
   "execution_count": 75,
   "metadata": {},
   "outputs": [
    {
     "data": {
      "text/plain": [
       "108.74986050003822"
      ]
     },
     "execution_count": 75,
     "metadata": {},
     "output_type": "execute_result"
    }
   ],
   "source": [
    "def integral_approx(f, a, b, n):\n",
    "\n",
    "    function_vals = []\n",
    "\n",
    "    # iterate over the number of area, we devided the integral in\n",
    "    for i in range(n):\n",
    "\n",
    "        # clacualte x value given the partition\n",
    "        x_i = ((b-a)/n) * i + a\n",
    "        \n",
    "        # calcualte function value given the partition\n",
    "        fx_i = f(x_i)\n",
    "\n",
    "        # append funcion values to list\n",
    "        function_vals.append(fx_i)\n",
    "\n",
    "    integral = ((b-a)/n) * sum(function_vals)\n",
    "\n",
    "    return integral\n",
    "\n",
    "integral_approx(f=f, a=1, b=4, n=1000000)\n",
    "\n"
   ]
  }
 ],
 "metadata": {
  "kernelspec": {
   "display_name": "Python 3",
   "language": "python",
   "name": "python3"
  },
  "language_info": {
   "codemirror_mode": {
    "name": "ipython",
    "version": 3
   },
   "file_extension": ".py",
   "mimetype": "text/x-python",
   "name": "python",
   "nbconvert_exporter": "python",
   "pygments_lexer": "ipython3",
   "version": "3.11.1"
  }
 },
 "nbformat": 4,
 "nbformat_minor": 2
}
