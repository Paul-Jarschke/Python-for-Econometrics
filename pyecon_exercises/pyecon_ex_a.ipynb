{
 "cells": [
  {
   "attachments": {},
   "cell_type": "markdown",
   "metadata": {},
   "source": [
    "# Exercises A\n",
    "_Version: February 14, 2022, see_ [PyEcon.org](https://pyecon.org)."
   ]
  },
  {
   "cell_type": "code",
   "execution_count": 26,
   "metadata": {},
   "outputs": [
    {
     "data": {
      "text/plain": [
       "1"
      ]
     },
     "execution_count": 26,
     "metadata": {},
     "output_type": "execute_result"
    }
   ],
   "source": [
    "import numpy as np\n",
    "\n",
    "l = [1,2,3]\n",
    "min(l)"
   ]
  },
  {
   "attachments": {},
   "cell_type": "markdown",
   "metadata": {},
   "source": [
    "### Exercise 1\n",
    "Create a function which takes a vector $v=(v_1, \\dots ,v_n)$ and returns the Vandermonde matrix $V$:\n",
    "$$\n",
    "V = \\left(\\begin{array}{ccccc}\n",
    "1 & v_1 & v_1^2 & \\dots & v_1^{n-1}\\\\\n",
    "1 & v_2 & v_2^2 & \\dots & v_2^{n-1}\\\\\n",
    "\\vdots & \\vdots & \\vdots & \\vdots & \\vdots\\\\\n",
    "1 & v_n & v_n^2 & \\dots & v_n^{n-1}\\\\\n",
    "\\end{array} \\right)\n",
    "$$"
   ]
  },
  {
   "cell_type": "code",
   "execution_count": 2,
   "metadata": {},
   "outputs": [
    {
     "data": {
      "text/plain": [
       "array([[1., 1., 1.],\n",
       "       [1., 2., 4.],\n",
       "       [1., 3., 9.]])"
      ]
     },
     "execution_count": 2,
     "metadata": {},
     "output_type": "execute_result"
    }
   ],
   "source": [
    "# Enter your codes here...\n",
    "import numpy as np\n",
    "\n",
    "\n",
    "def vandermonde(vec):\n",
    "\n",
    "    n = len(vec)\n",
    "    mat = np.empty((n,n))\n",
    "\n",
    "    for i in range(n):\n",
    "        for j in range(n):\n",
    "            mat[i,j] = vec[i]**j\n",
    "\n",
    "    return(mat)\n",
    "\n",
    "vandermonde(np.array([1,2,3]))"
   ]
  },
  {
   "cell_type": "code",
   "execution_count": 3,
   "metadata": {},
   "outputs": [
    {
     "data": {
      "text/plain": [
       "array([[0., 0., 0., 0.],\n",
       "       [0., 0., 0., 0.],\n",
       "       [0., 0., 0., 0.],\n",
       "       [0., 0., 0., 0.]])"
      ]
     },
     "execution_count": 3,
     "metadata": {},
     "output_type": "execute_result"
    }
   ],
   "source": [
    "np.zeros((4,4))"
   ]
  },
  {
   "cell_type": "code",
   "execution_count": 4,
   "metadata": {},
   "outputs": [
    {
     "data": {
      "text/plain": [
       "array([[0., 0., 0., 0.],\n",
       "       [0., 0., 0., 0.],\n",
       "       [0., 0., 0., 0.],\n",
       "       [0., 0., 0., 0.]])"
      ]
     },
     "execution_count": 4,
     "metadata": {},
     "output_type": "execute_result"
    }
   ],
   "source": [
    "np.empty(shape = (4,4))"
   ]
  },
  {
   "cell_type": "code",
   "execution_count": 5,
   "metadata": {},
   "outputs": [
    {
     "data": {
      "text/plain": [
       "False"
      ]
     },
     "execution_count": 5,
     "metadata": {},
     "output_type": "execute_result"
    }
   ],
   "source": [
    "# Ones and empty are identlical\n",
    "(np.ones(shape = (4,4)) == np.empty(shape=(4,4))).all()"
   ]
  },
  {
   "attachments": {},
   "cell_type": "markdown",
   "metadata": {},
   "source": [
    "### Exercise 2\n",
    "\n",
    "Create a function which takes a vector $v=(v_1, \\dots ,v_n)$ and returns the mean and the sum of the vector.\n",
    "\n",
    "1. Solve the task by using NumPy.\n",
    "2. Solve the task without importing modules."
   ]
  },
  {
   "cell_type": "code",
   "execution_count": 6,
   "metadata": {},
   "outputs": [
    {
     "name": "stdout",
     "output_type": "stream",
     "text": [
      "(2.0, 6)\n",
      "(2.0, 6)\n"
     ]
    }
   ],
   "source": [
    "import numpy as np\n",
    "\n",
    "def mean_sum(vec):\n",
    "\n",
    "    sum = np.sum(vec)\n",
    "    mean = np.mean(vec)\n",
    "\n",
    "    return(mean, sum)\n",
    "\n",
    "print(mean_sum(np.array([1,2,3])))\n",
    "\n",
    "\n",
    "def mean_sum_hand(vec):\n",
    "\n",
    "    n = len(vec)\n",
    "    sum = 0\n",
    "\n",
    "    for i in vec:\n",
    "        sum += i\n",
    "\n",
    "    mean = sum/n\n",
    "\n",
    "    return(mean, sum)\n",
    "\n",
    "print(mean_sum_hand(np.array([1,2,3])))\n"
   ]
  },
  {
   "attachments": {},
   "cell_type": "markdown",
   "metadata": {},
   "source": [
    "### Exercise 3\n",
    "\n",
    "Use NumPy to check if the following vectors are linearly independent:\n",
    "\n",
    "$$\n",
    "v_1=\n",
    "\\left( \\begin{array}{c} 0 \\\\ 1 \\\\ 2 \\\\ 1 \\end{array} \\right),\n",
    "\\ v_2=\n",
    "\\left( \\begin{array}{c} 4 \\\\ 2 \\\\ 2 \\\\ 2 \\end{array} \\right),\n",
    "\\ v_3=\n",
    " \\left( \\begin{array}{c} 1 \\\\ 0 \\\\ 3 \\\\  0\\end{array} \\right),\n",
    "\\ v_4=\n",
    " \\left( \\begin{array}{c} 1 \\\\ 0 \\\\ 0 \\\\ 0 \\end{array} \\right).\n",
    "$$"
   ]
  },
  {
   "cell_type": "code",
   "execution_count": 7,
   "metadata": {},
   "outputs": [
    {
     "name": "stdout",
     "output_type": "stream",
     "text": [
      "Matrix 1:\n",
      "[[0 4 1 1]\n",
      " [1 2 0 0]\n",
      " [2 2 3 0]\n",
      " [1 2 0 0]]\n",
      "\n",
      "Matrix 2:\n",
      "[[0 4 1 1]\n",
      " [1 2 0 0]\n",
      " [2 2 3 0]\n",
      " [1 2 0 0]]\n",
      "\n",
      "The vectors are linearly independent!\n"
     ]
    }
   ],
   "source": [
    "import numpy.linalg as nplin\n",
    "\n",
    "# Solution 1\n",
    "vec1 = np.array([0,1,2,1]).reshape((4,1))\n",
    "vec2 = np.array([4,2,2,2]).reshape((4,1))\n",
    "vec3 = np.array([1,0,3,0]).reshape((4,1))\n",
    "vec4 = np.array([1,0,0,0]).reshape((4,1))\n",
    "\n",
    "mat1 = np.concatenate((vec1, vec2, vec3, vec4), axis = 1)\n",
    "\n",
    "print(f'Matrix 1:\\n{mat1}\\n')\n",
    "\n",
    "# Solution 2\n",
    "\n",
    "mat2 = np.array([[0,4,1,1],\n",
    "                [1,2,0,0],\n",
    "                [2,2,3,0],\n",
    "                [1,2,0,0]])\n",
    "\n",
    "print(f'Matrix 2:\\n{mat2}\\n')\n",
    "\n",
    "\n",
    "def check_independence(mat):\n",
    "    '''\n",
    "    Linear independence is given is the matrix with vectors as columns has the determinant 0.\n",
    "    '''\n",
    "    if nplin.det(mat) == 0:\n",
    "        print('The vectors are linearly independent!')\n",
    "    else:\n",
    "        print('The vecotrs are lienarl dependent!')\n",
    "\n",
    "check_independence(mat1)"
   ]
  },
  {
   "attachments": {},
   "cell_type": "markdown",
   "metadata": {},
   "source": [
    "### Exercise 4\n",
    "\n",
    "Create a function which sorts the vector $v=(v_1, \\dots ,v_n)$ without using the built-in `array.sort()` function and visualize the result in a graph."
   ]
  },
  {
   "cell_type": "code",
   "execution_count": 8,
   "metadata": {},
   "outputs": [
    {
     "name": "stdout",
     "output_type": "stream",
     "text": [
      "Bubble sort: [  1   2   2   3   5   7  63 346]\n",
      "NumPy sort:  [  1   2   2   3   5   7  63 346]\n"
     ]
    },
    {
     "data": {
      "text/plain": [
       "[<matplotlib.lines.Line2D at 0x1dc142c8a10>]"
      ]
     },
     "execution_count": 8,
     "metadata": {},
     "output_type": "execute_result"
    },
    {
     "data": {
      "image/png": "[encoded data removed]",
      "text/plain": [
       "<Figure size 640x480 with 1 Axes>"
      ]
     },
     "metadata": {},
     "output_type": "display_data"
    }
   ],
   "source": [
    "vec = np.array([1,2,5,3,346,7,2,63])\n",
    "\n",
    "# Bubble sort\n",
    "def bubble_sort(vec):\n",
    "\n",
    "    n = len(vec)\n",
    "\n",
    "    # Number of passes performed on the list#\n",
    "    # In each pass, the largest element \"bubbles up\" to its correct position at the end of the list\n",
    "    for i in range(n-1):\n",
    "\n",
    "        # iterate over  elements that are still unsorted\n",
    "        #n-1-i optimizes the algorithm, since the last i elements are already sorted\n",
    "        for j in range(n-1):\n",
    "            \n",
    "            # Pairwise variable swap if following number is smaller\n",
    "            if vec[j] > vec[j+1]:\n",
    "                vec[j], vec[j+1] = vec[j+1], vec[j]\n",
    "            else:\n",
    "                pass\n",
    "    return vec\n",
    "\n",
    "print(f'Bubble sort: {bubble_sort(vec)}')\n",
    "print(f'NumPy sort:  {np.sort(vec)}')\n",
    "\n",
    "\n",
    "import matplotlib.pyplot as plt\n",
    "%matplotlib inline\n",
    "\n",
    "v = np.array([4, 7, 22, 56, 8, -2, 34, 1, 5, 45])\n",
    "\n",
    "\n",
    "def bubblesort(v):\n",
    "\n",
    "    # Range object starting from the back\n",
    "    for k in range(len(v)-1, 0, -1): #range(start, stop, step)\n",
    "        for i in range(k):\n",
    "            if v[i] > v[i+1]:\n",
    "                v[i], v[i+1] = v[i+1], v[i]\n",
    "    return v\n",
    "\n",
    "\n",
    "# Lineplot of sorted values\n",
    "plt.plot(bubblesort(v))"
   ]
  },
  {
   "attachments": {},
   "cell_type": "markdown",
   "metadata": {},
   "source": [
    "### Exercise 5\n",
    "\n",
    "Determine the intersection of the straight line $g$ and the plane $E$:\n",
    "\n",
    "$$g: \\vec{x}=\\left ( \\begin{array}{c} 2 \\\\ 3 \\\\ 0 \\end{array} \\right) +t\\left ( \\begin{array}{c} 1 \\\\ -2 \\\\ 2 \\end{array} \\right), \\quad t \\in \\mathbb{R},$$\n",
    "$$E: \\vec{x}= \\left ( \\begin{array}{c} 9 \\\\ 0 \\\\ 0 \\end{array} \\right) + r\\left ( \\begin{array}{c} -9 \\\\ 4.5 \\\\ 0 \\end{array} \\right) +s\\left ( \\begin{array}{c} -9 \\\\ 0 \\\\ 4.5 \\end{array} \\right), \\quad r,s\\in \\mathbb{R}.$$\n",
    "\n",
    "_Hint: You might want to refresh your knowledge of the parametric form at, for example,_ https://en.wikipedia.org/wiki/Line-plane_intersection."
   ]
  },
  {
   "cell_type": "code",
   "execution_count": 9,
   "metadata": {},
   "outputs": [
    {
     "name": "stdout",
     "output_type": "stream",
     "text": [
      "[2 3 0]\n",
      "[9. 0. 0.]\n",
      "Matrix b:\n",
      "[-7.  3.  0.]\n",
      "\n",
      "Matrix a:\n",
      "[[-1.  -9.  -9. ]\n",
      " [ 2.   4.5  0. ]\n",
      " [-2.   0.   4.5]]\n"
     ]
    },
    {
     "data": {
      "text/plain": [
       "array([1.        , 0.22222222, 0.44444444])"
      ]
     },
     "execution_count": 9,
     "metadata": {},
     "output_type": "execute_result"
    }
   ],
   "source": [
    "import numpy.linalg as nplin\n",
    "\n",
    "# defining matrices\n",
    "g = np.array([[2, 1],\n",
    "              [3, -2],\n",
    "              [0, 2]])\n",
    "e = np.array([[9, -9, -9],\n",
    "              [0, 4.5, 0],\n",
    "              [0, 0, 4.5]])\n",
    "\n",
    "print(g[:, 0])\n",
    "print(e[:, 0])\n",
    "\n",
    "# form system of linear equations: Ax = b\n",
    "b = g[:, 0] - e[:, 0]\n",
    "a = np.column_stack([-g[:, 1], e[:, 1:]])\n",
    "\n",
    "print(f'Matrix b:\\n{b}\\n')\n",
    "print(f'Matrix a:\\n{a}')\n",
    "\n",
    "# solve system for x\n",
    "x = nplin.solve(a, b)\n",
    "x"
   ]
  },
  {
   "attachments": {},
   "cell_type": "markdown",
   "metadata": {
    "collapsed": false,
    "inputHidden": false,
    "outputHidden": false
   },
   "source": [
    "### Exercise 6: Sorting algorithms\n",
    "\n",
    "Sorting algorithms are algorithms that put elements of a list in a certain order. Efficient sorting is important for optimizing the efficiency of complex algorithms. There are different sorting algorithms which differ in time complexity.\n",
    "\n",
    "1. Implement a function which uses _Bubblesort_ to sort a randomly generated list (numbers) in numerical order.\n",
    "2. Implement a function which uses _Quicksort_ achieve the same goal.\n",
    "\n",
    "_Hint: Inform yourself about the two different sorting algorithms first, for example,_\n",
    "https://en.wikipedia.org/wiki/Bubble_sort _and_ https://en.wikipedia.org/wiki/Quicksort."
   ]
  },
  {
   "cell_type": "code",
   "execution_count": 15,
   "metadata": {},
   "outputs": [
    {
     "data": {
      "text/plain": [
       "[-9850,\n",
       " -9598,\n",
       " -9473,\n",
       " -9353,\n",
       " -9151,\n",
       " -8985,\n",
       " -8901,\n",
       " -8820,\n",
       " -8691,\n",
       " -8475,\n",
       " -8263,\n",
       " -8261,\n",
       " -8237,\n",
       " -8095,\n",
       " -7911,\n",
       " -7841,\n",
       " -7161,\n",
       " -6806,\n",
       " -5929,\n",
       " -5889,\n",
       " -5857,\n",
       " -5791,\n",
       " -5712,\n",
       " -5533,\n",
       " -5529,\n",
       " -5387,\n",
       " -4871,\n",
       " -4702,\n",
       " -4488,\n",
       " -4297,\n",
       " -4257,\n",
       " -4131,\n",
       " -3857,\n",
       " -3754,\n",
       " -3640,\n",
       " -3521,\n",
       " -3361,\n",
       " -3225,\n",
       " -3158,\n",
       " -2808,\n",
       " -2755,\n",
       " -2521,\n",
       " -2486,\n",
       " -2171,\n",
       " -1977,\n",
       " -1888,\n",
       " -1861,\n",
       " -1801,\n",
       " -1569,\n",
       " -1569,\n",
       " -1528,\n",
       " -1287,\n",
       " -1177,\n",
       " -872,\n",
       " -6,\n",
       " 100,\n",
       " 171,\n",
       " 443,\n",
       " 500,\n",
       " 662,\n",
       " 677,\n",
       " 981,\n",
       " 1068,\n",
       " 1314,\n",
       " 1317,\n",
       " 1398,\n",
       " 2097,\n",
       " 2285,\n",
       " 2691,\n",
       " 2941,\n",
       " 3220,\n",
       " 3490,\n",
       " 3942,\n",
       " 4046,\n",
       " 4079,\n",
       " 4378,\n",
       " 4502,\n",
       " 4571,\n",
       " 5091,\n",
       " 5907,\n",
       " 5918,\n",
       " 5955,\n",
       " 5967,\n",
       " 6861,\n",
       " 6978,\n",
       " 7059,\n",
       " 7145,\n",
       " 7201,\n",
       " 7293,\n",
       " 7657,\n",
       " 7744,\n",
       " 7939,\n",
       " 8120,\n",
       " 8311,\n",
       " 8401,\n",
       " 8829,\n",
       " 9563,\n",
       " 9653,\n",
       " 9854,\n",
       " 9951]"
      ]
     },
     "execution_count": 15,
     "metadata": {},
     "output_type": "execute_result"
    }
   ],
   "source": [
    "import random\n",
    "\n",
    "numbers = []\n",
    "for i in range(100):\n",
    "    numbers.append(random.randint(-10000, 10000))\n",
    "\n",
    "\n",
    "def bubble_sort(lst):\n",
    "\n",
    "    n = len(lst)\n",
    "\n",
    "    for i in range(n-1):\n",
    "        for j in range(n-i-1):\n",
    "            if lst[j] > lst[j+1]:\n",
    "                lst[j], lst[j+1] = lst[j+1], lst[j]\n",
    "            else:\n",
    "                pass\n",
    "    return(lst)\n",
    "\n",
    "bubble_sort(numbers)"
   ]
  },
  {
   "cell_type": "code",
   "execution_count": null,
   "metadata": {},
   "outputs": [],
   "source": []
  },
  {
   "attachments": {},
   "cell_type": "markdown",
   "metadata": {
    "collapsed": false,
    "inputHidden": false,
    "outputHidden": false
   },
   "source": [
    "### Exercise 7: Numerical differentiation\n",
    "\n",
    "1. Create a function which estimates the derivative of the function $f$ at the position $x=3$. You can use the simple finite difference formula:\n",
    "\n",
    "    $$\n",
    "    f'(x)=\\lim_{h \\rightarrow 0} \\dfrac{f(x+h) - f(x)}{h}\n",
    "    $$\n",
    "\n",
    "    The derivative function in Python should take the function to be derived, the position $x$ and the distance $h$ as arguments.\n",
    "\n",
    "\n",
    "2. Create a function which estimates the gradient of a scalar function $g: \\mathbb{R}^{n}\\rightarrow \\mathbb{R}$. The arguments of the gradient function should be the function $g$, the dimension $n$, the vector $v$ where the gradient shall be estimated and the distance $h$. Check your gradient function on the given function $g$ and vector $v$.\n",
    "\n",
    "3. Create a function which returns an approximation of the Hessian matrix $h$ of the function $g$ at $v$:\n",
    "  $$\n",
    "  H_{g}(v) := \\left( \\dfrac{\\partial^{2} g}{\\partial v_{i} \\partial v_{j}} (v) \\right)_{i, j=1, \\ldots, n}\n",
    "  $$\n",
    "  You can use the following identity:\n",
    "  $$\n",
    "  \\dfrac{\\partial}{\\partial y}\\left(\\dfrac{\\partial g}{\\partial x}\\right)(v) =\\lim_{h \\rightarrow 0}\\dfrac{\\dfrac{\\partial g}{\\partial x}(x, y+h, z)-\\dfrac{\\partial g}{\\partial x}(x, y, z)}{h}\\\\\n",
    " =\\lim_{h \\rightarrow 0} \\dfrac{\\dfrac{g(x+h,y+h,z)-g(x,y+h,z)}{h}-\\dfrac{g(x+h, y, z)-g(x, y, z)}{h}}{h}\\\\\n",
    " =\\lim_{h \\rightarrow 0}\\dfrac{g(x+h, y+h, z)-g(x, y+h, z)-g(x+h, y, z)+g(x, y, z)}{h^{2}}\n",
    "  $$"
   ]
  },
  {
   "cell_type": "code",
   "execution_count": 11,
   "metadata": {},
   "outputs": [],
   "source": [
    "import numpy as np\n",
    "\n",
    "\n",
    "def f(x):\n",
    "    return x**2\n",
    "\n",
    "\n",
    "def g(v):\n",
    "    return np.sin(v[0]) * v[1] + np.exp(v[2])\n",
    "\n",
    "\n",
    "v = np.array([2., 3., 1.])"
   ]
  },
  {
   "attachments": {},
   "cell_type": "markdown",
   "metadata": {
    "collapsed": false,
    "inputHidden": false,
    "outputHidden": false
   },
   "source": [
    "### Exercise 8: Numerical integration\n",
    "\n",
    "Create a function to approximate an integral of the function $f$ in the interval $(a, b)$. You can divide the area into $n$ equal width rectangles and add these up by using the formula:\n",
    "$$\n",
    "\\int_{a}^{b}f(x) \\approx \\dfrac{b-a}{n}\\left(f(x_{1})+f(x_{2})+...+f(x_{n})\\right)\n",
    "$$\n",
    "Where $x_{i}$ is given by $x_{i}=\\dfrac{(b-a)}{n} \\cdot i+a$.\n",
    "Check your integral approximation on the given function $f$ in the interval (1,4)."
   ]
  },
  {
   "cell_type": "code",
   "execution_count": 12,
   "metadata": {},
   "outputs": [],
   "source": [
    "def f(x):\n",
    "    return x**3 + 2 * x**2 + 1"
   ]
  }
 ],
 "metadata": {
  "kernelspec": {
   "display_name": "Python 3",
   "language": "python",
   "name": "python3"
  },
  "language_info": {
   "codemirror_mode": {
    "name": "ipython",
    "version": 3
   },
   "file_extension": ".py",
   "mimetype": "text/x-python",
   "name": "python",
   "nbconvert_exporter": "python",
   "pygments_lexer": "ipython3",
   "version": "3.11.1"
  }
 },
 "nbformat": 4,
 "nbformat_minor": 2
}
