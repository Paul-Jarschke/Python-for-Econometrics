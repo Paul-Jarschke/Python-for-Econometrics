{
 "cells": [
  {
   "attachments": {},
   "cell_type": "markdown",
   "metadata": {},
   "source": [
    "# Exercises B\n",
    "_Version: February 14, 2022, see_ [PyEcon.org](https://pyecon.org)."
   ]
  },
  {
   "attachments": {},
   "cell_type": "markdown",
   "metadata": {},
   "source": [
    "### Exercise 1: NHL Hockey\n",
    "The file `nhl1617.txt` contains data of all (non-goalie) players in the NHL who had at least some _ice time_, i.e. playing time, in the 2016/2017 regular season - without play-offs. Load the CSV data of the file `nhl1617.txt` in Python using `open` and further string transformations (_see below_). Try to cope with the huge string and allocate the information to a dictionary. Use the column names of the dataset as keys for the dictionary.\n",
    "\n",
    "Solve these tasks using only a dictionary consisting of lists but **not using** _pandas_:\n",
    "\n",
    "1. How many players have been recorded?\n",
    "1. A column _points_ (\"P\") is missing in the data. The number of points of a player is defined as the sum of his _goals_ (\"G\") and _assists_ (\"A\"). Add the points to your dictionary.\n",
    "1. Who is the top scorer in terms of points?\n",
    "1. How many German (non-goalie) players had some ice time in there 2016/2017 regular season? _Hint: Nationality of a player can be found in the dictionary entry \"Nat\". Germans are indicated by \"DEU\"._\n",
    "1. What are their names? *Hint: Names can be found in th entry \"Last_Name\" and \"First_Name\".*\n",
    "1. Who performed best among the German players in terms of points (\"P\")?\n",
    "1. How many points (\"P\") did he have?\n",
    "1. How well did he perform in the entire league? Put differently, what was his rank in terms of points?\n",
    "1. Find the top ten scorers (in terms of points) and print them including their number of point and their respective team.\n",
    "1. What are the three countries with the most players originating from?\n",
    "\n",
    "If you feel comfortable looping through dictionaries and lists, re-implement your codes **using** _pandas_."
   ]
  },
  {
   "cell_type": "code",
   "execution_count": 260,
   "metadata": {},
   "outputs": [
    {
     "data": {
      "text/plain": [
       "['Abbott',\n",
       " 'Abdelkader',\n",
       " 'Aberg',\n",
       " 'Acciari',\n",
       " 'Agostino',\n",
       " 'Aho',\n",
       " 'Alzner',\n",
       " 'Anderson',\n",
       " 'Andersson',\n",
       " 'Andreoff']"
      ]
     },
     "execution_count": 260,
     "metadata": {},
     "output_type": "execute_result"
    }
   ],
   "source": [
    "with open(\"data/nhl1617.txt\") as f:\n",
    "    data = f.read()\n",
    "data = data.replace('\"', '')\n",
    "data = data.splitlines()\n",
    "var_names = data[0]\n",
    "var_names = var_names.rsplit(\";\")\n",
    "data.pop(0)\n",
    "NHL = {}\n",
    "for keys in var_names:\n",
    "    NHL[keys] = []\n",
    "for line in data:\n",
    "    line = line.rsplit(';')\n",
    "    for info, keys in zip(line, NHL):\n",
    "        NHL[keys].append(info)\n",
    "NHL[\"Last_Name\"][:10]"
   ]
  },
  {
   "cell_type": "code",
   "execution_count": 261,
   "metadata": {},
   "outputs": [
    {
     "data": {
      "text/plain": [
       "dict_keys(['Born', 'City', 'Cntry', 'Nat', 'Ht', 'Wt', 'Last_Name', 'First_Name', 'Position', 'Team', 'GP', 'G', 'A', 'TOI', 'TOI_GP'])"
      ]
     },
     "execution_count": 261,
     "metadata": {},
     "output_type": "execute_result"
    }
   ],
   "source": [
    "NHL.keys()"
   ]
  },
  {
   "cell_type": "code",
   "execution_count": 262,
   "metadata": {},
   "outputs": [
    {
     "name": "stdout",
     "output_type": "stream",
     "text": [
      "Number of players accoring to last names: 888\n"
     ]
    }
   ],
   "source": [
    "# Number fo players\n",
    "n = len(NHL['Last_Name'])\n",
    "print(f'Number of players accoring to last names: {n}')"
   ]
  },
  {
   "cell_type": "code",
   "execution_count": 263,
   "metadata": {},
   "outputs": [
    {
     "data": {
      "text/plain": [
       "[0, 21, 2, 5, 3, 49, 13, 29, 0, 2]"
      ]
     },
     "execution_count": 263,
     "metadata": {},
     "output_type": "execute_result"
    }
   ],
   "source": [
    "# creating new key with vals\n",
    "\n",
    "NHL['P'] = []\n",
    "\n",
    "for G, A in zip(NHL['G'],NHL['A']):\n",
    "    NHL['P'].append(int(G) + int(A))\n",
    "\n",
    "NHL['P'][:10]"
   ]
  },
  {
   "cell_type": "code",
   "execution_count": 264,
   "metadata": {},
   "outputs": [
    {
     "name": "stdout",
     "output_type": "stream",
     "text": [
      "McDavid, Connor\n"
     ]
    }
   ],
   "source": [
    "# get player with the max number of point\n",
    "\n",
    "max_p = max(NHL[\"P\"])\n",
    "index = [i for i in range(n) if NHL[\"P\"][i] == max_p]\n",
    "\n",
    "for i in index:\n",
    "    print(f\"{NHL['Last_Name'][i]}, {NHL['First_Name'][i]}\")"
   ]
  },
  {
   "cell_type": "code",
   "execution_count": 265,
   "metadata": {},
   "outputs": [
    {
     "name": "stdout",
     "output_type": "stream",
     "text": [
      "Number of german players: 5\n",
      "\n",
      "Name           Points\n",
      "Draisaitl Leon 77\n",
      "Holzer Korbinian 7\n",
      "Kuhnhackl Tom 16\n",
      "Rieder Tobias 34\n",
      "Seidenberg Dennis 22\n"
     ]
    }
   ],
   "source": [
    "# get number of german players\n",
    "\n",
    "index = [i for i in range(n) if NHL['Nat'][i] == 'DEU']\n",
    "\n",
    "print(f'Number of german players: {len(index)}\\n')\n",
    "\n",
    "print('Name           Points')\n",
    "for i in index:\n",
    "    print(NHL['Last_Name'][i], NHL['First_Name'][i], NHL['P'][i])"
   ]
  },
  {
   "cell_type": "code",
   "execution_count": 266,
   "metadata": {},
   "outputs": [
    {
     "name": "stdout",
     "output_type": "stream",
     "text": [
      "Draisaitl (Points: 77) was the best performing German NHL player.\n"
     ]
    }
   ],
   "source": [
    "# Finding the German top scorer(s)\n",
    "ger_p = [NHL[\"P\"][i] for i in index]\n",
    "max_p = max(ger_p)\n",
    "index_p = [index[i] for i, p in enumerate(ger_p) if p == max_p]\n",
    "for i in index_p:\n",
    "    print(f\"{NHL['Last_Name'][i]} (Points: {max_p}) was the best performing German NHL player.\")"
   ]
  },
  {
   "cell_type": "code",
   "execution_count": 267,
   "metadata": {},
   "outputs": [
    {
     "name": "stdout",
     "output_type": "stream",
     "text": [
      "Rank of Draisaitl: 9\n"
     ]
    }
   ],
   "source": [
    "# get relative performance of german player\n",
    "\n",
    "rank = 1\n",
    "\n",
    "for i in NHL['P']:\n",
    "    if NHL['P'][i] > max_p:\n",
    "        rank += 1\n",
    "\n",
    "print(f'Rank of Draisaitl: {rank}')"
   ]
  },
  {
   "cell_type": "code",
   "execution_count": 268,
   "metadata": {},
   "outputs": [
    {
     "name": "stdout",
     "output_type": "stream",
     "text": [
      "0 Abbott CHI 0\n",
      "1 Abdelkader DET 21\n",
      "2 Aberg NSH 2\n",
      "3 Acciari BOS 5\n",
      "4 Agostino STL 3\n",
      "5 Aho CAR 49\n",
      "6 Alzner WSH 13\n",
      "7 Anderson CBJ 29\n",
      "8 Andersson CGY 0\n",
      "9 Andreoff L.A 2\n"
     ]
    }
   ],
   "source": [
    "# find top ten scorers\n",
    "\n",
    "index = [i for i,j in sorted(enumerate(NHL['P']),\n",
    "                             reverse=True,\n",
    "                             key=lambda x:x[1])]\n",
    "\n",
    "for i in range(0,10):\n",
    "    print(i, NHL['Last_Name'][i], NHL['Team'][i], NHL['P'][i])"
   ]
  },
  {
   "cell_type": "code",
   "execution_count": 269,
   "metadata": {},
   "outputs": [
    {
     "name": "stdout",
     "output_type": "stream",
     "text": [
      "[('CAN', 413), ('USA', 243), ('SWE', 79)]\n",
      "CAN 413\n",
      "USA 243\n",
      "SWE 79\n"
     ]
    }
   ],
   "source": [
    "# three countries with the most players from\n",
    "countries = {}\n",
    "\n",
    "for nation in NHL['Nat']:\n",
    "    if nation in countries:\n",
    "        countries[nation] +=1\n",
    "    else:\n",
    "        countries[nation] = 1\n",
    "\n",
    "top_3 = sorted(countries.items(),\n",
    "               key = lambda x:x[1],\n",
    "               reverse=True)[0:3]\n",
    "\n",
    "print(top_3)\n",
    "\n",
    "for nation, count in top_3:\n",
    "    print(nation, count)"
   ]
  },
  {
   "attachments": {},
   "cell_type": "markdown",
   "metadata": {},
   "source": [
    "### Exercise 2: Same sex marriage - \"Ehe für Alle\"\n",
    "The file `data/votings.txt` contains the voting behavior of all members of the german parliament regarding a draft that aimed to legalise same sex marriage. Party membership is also part of the dataset.\n",
    "\n",
    "The following list contains the ministers: ['Merkel', 'Altmaier', 'Friedrich, Dr.', 'Leyen', 'Schmidt, Christian', 'Dobrindt', 'Maizière, Dr.', 'Schäuble']\n",
    "\n",
    "Note that _Wanka_ was not part of the German parliament. _Gröhe_ and _Müller_ did not participate in the poll.\n",
    "\n",
    "1. We are interested in the share of voting in favor of same sex marriage grouped by party membership.\n",
    "1. Display the votings of the members of the CDU/CSU who were also part of the top-level administration."
   ]
  },
  {
   "cell_type": "code",
   "execution_count": 270,
   "metadata": {},
   "outputs": [],
   "source": [
    "names = ['Merkel', 'Altmaier', 'Friedrich, Dr.', 'Leyen', 'Schmidt, Christian',\n",
    "         'Dobrindt', 'Maizière, Dr.', 'Schäuble']"
   ]
  },
  {
   "cell_type": "code",
   "execution_count": 271,
   "metadata": {},
   "outputs": [
    {
     "data": {
      "text/html": [
       "<div>\n",
       "<style scoped>\n",
       "    .dataframe tbody tr th:only-of-type {\n",
       "        vertical-align: middle;\n",
       "    }\n",
       "\n",
       "    .dataframe tbody tr th {\n",
       "        vertical-align: top;\n",
       "    }\n",
       "\n",
       "    .dataframe thead th {\n",
       "        text-align: right;\n",
       "    }\n",
       "</style>\n",
       "<table border=\"1\" class=\"dataframe\">\n",
       "  <thead>\n",
       "    <tr style=\"text-align: right;\">\n",
       "      <th></th>\n",
       "      <th>Assemblyman</th>\n",
       "      <th>Party</th>\n",
       "      <th>Vote</th>\n",
       "    </tr>\n",
       "  </thead>\n",
       "  <tbody>\n",
       "    <tr>\n",
       "      <th>0</th>\n",
       "      <td>Albani, Stephan</td>\n",
       "      <td>CDU/CSU</td>\n",
       "      <td>Ja</td>\n",
       "    </tr>\n",
       "    <tr>\n",
       "      <th>1</th>\n",
       "      <td>Albsteiger, Katrin</td>\n",
       "      <td>CDU/CSU</td>\n",
       "      <td>Nein</td>\n",
       "    </tr>\n",
       "    <tr>\n",
       "      <th>2</th>\n",
       "      <td>Altmaier, Peter</td>\n",
       "      <td>CDU/CSU</td>\n",
       "      <td>Ja</td>\n",
       "    </tr>\n",
       "    <tr>\n",
       "      <th>3</th>\n",
       "      <td>Auernhammer, Artur</td>\n",
       "      <td>CDU/CSU</td>\n",
       "      <td>Nein</td>\n",
       "    </tr>\n",
       "    <tr>\n",
       "      <th>4</th>\n",
       "      <td>Bär, Dorothee</td>\n",
       "      <td>CDU/CSU</td>\n",
       "      <td>Nein</td>\n",
       "    </tr>\n",
       "  </tbody>\n",
       "</table>\n",
       "</div>"
      ],
      "text/plain": [
       "          Assemblyman    Party  Vote\n",
       "0     Albani, Stephan  CDU/CSU    Ja\n",
       "1  Albsteiger, Katrin  CDU/CSU  Nein\n",
       "2     Altmaier, Peter  CDU/CSU    Ja\n",
       "3  Auernhammer, Artur  CDU/CSU  Nein\n",
       "4       Bär, Dorothee  CDU/CSU  Nein"
      ]
     },
     "execution_count": 271,
     "metadata": {},
     "output_type": "execute_result"
    }
   ],
   "source": [
    "import pandas as pd\n",
    "\n",
    "df = pd.read_table('data/votings.txt', sep = ';')\n",
    "df.head()"
   ]
  },
  {
   "cell_type": "code",
   "execution_count": 272,
   "metadata": {},
   "outputs": [
    {
     "data": {
      "text/html": [
       "<div>\n",
       "<style scoped>\n",
       "    .dataframe tbody tr th:only-of-type {\n",
       "        vertical-align: middle;\n",
       "    }\n",
       "\n",
       "    .dataframe tbody tr th {\n",
       "        vertical-align: top;\n",
       "    }\n",
       "\n",
       "    .dataframe thead th {\n",
       "        text-align: right;\n",
       "    }\n",
       "</style>\n",
       "<table border=\"1\" class=\"dataframe\">\n",
       "  <thead>\n",
       "    <tr style=\"text-align: right;\">\n",
       "      <th></th>\n",
       "      <th></th>\n",
       "      <th>Anzahl der Stimmen</th>\n",
       "    </tr>\n",
       "    <tr>\n",
       "      <th>Party</th>\n",
       "      <th>Vote</th>\n",
       "      <th></th>\n",
       "    </tr>\n",
       "  </thead>\n",
       "  <tbody>\n",
       "    <tr>\n",
       "      <th>B90/Grüne</th>\n",
       "      <th>Ja</th>\n",
       "      <td>63</td>\n",
       "    </tr>\n",
       "    <tr>\n",
       "      <th rowspan=\"4\" valign=\"top\">CDU/CSU</th>\n",
       "      <th>Enthalten</th>\n",
       "      <td>4</td>\n",
       "    </tr>\n",
       "    <tr>\n",
       "      <th>Ja</th>\n",
       "      <td>75</td>\n",
       "    </tr>\n",
       "    <tr>\n",
       "      <th>Nein</th>\n",
       "      <td>225</td>\n",
       "    </tr>\n",
       "    <tr>\n",
       "      <th>Nicht abg.</th>\n",
       "      <td>5</td>\n",
       "    </tr>\n",
       "    <tr>\n",
       "      <th rowspan=\"2\" valign=\"top\">Die Linke</th>\n",
       "      <th>Ja</th>\n",
       "      <td>63</td>\n",
       "    </tr>\n",
       "    <tr>\n",
       "      <th>Nicht abg.</th>\n",
       "      <td>1</td>\n",
       "    </tr>\n",
       "    <tr>\n",
       "      <th rowspan=\"2\" valign=\"top\">SPD</th>\n",
       "      <th>Ja</th>\n",
       "      <td>192</td>\n",
       "    </tr>\n",
       "    <tr>\n",
       "      <th>Nicht abg.</th>\n",
       "      <td>1</td>\n",
       "    </tr>\n",
       "    <tr>\n",
       "      <th>fraktionslos</th>\n",
       "      <th>Nein</th>\n",
       "      <td>1</td>\n",
       "    </tr>\n",
       "  </tbody>\n",
       "</table>\n",
       "</div>"
      ],
      "text/plain": [
       "                         Anzahl der Stimmen\n",
       "Party        Vote                          \n",
       "B90/Grüne    Ja                          63\n",
       "CDU/CSU      Enthalten                    4\n",
       "             Ja                          75\n",
       "             Nein                       225\n",
       "             Nicht abg.                   5\n",
       "Die Linke    Ja                          63\n",
       "             Nicht abg.                   1\n",
       "SPD          Ja                         192\n",
       "             Nicht abg.                   1\n",
       "fraktionslos Nein                         1"
      ]
     },
     "execution_count": 272,
     "metadata": {},
     "output_type": "execute_result"
    }
   ],
   "source": [
    "data = df.groupby(['Party', 'Vote']).count()\n",
    "data.columns = ['Anzahl der Stimmen']\n",
    "data"
   ]
  },
  {
   "cell_type": "code",
   "execution_count": null,
   "metadata": {},
   "outputs": [],
   "source": []
  },
  {
   "cell_type": "code",
   "execution_count": 273,
   "metadata": {},
   "outputs": [
    {
     "data": {
      "text/html": [
       "<div>\n",
       "<style scoped>\n",
       "    .dataframe tbody tr th:only-of-type {\n",
       "        vertical-align: middle;\n",
       "    }\n",
       "\n",
       "    .dataframe tbody tr th {\n",
       "        vertical-align: top;\n",
       "    }\n",
       "\n",
       "    .dataframe thead th {\n",
       "        text-align: right;\n",
       "    }\n",
       "</style>\n",
       "<table border=\"1\" class=\"dataframe\">\n",
       "  <thead>\n",
       "    <tr style=\"text-align: right;\">\n",
       "      <th></th>\n",
       "      <th>Assemblyman</th>\n",
       "      <th>Party</th>\n",
       "      <th>Vote</th>\n",
       "    </tr>\n",
       "  </thead>\n",
       "  <tbody>\n",
       "    <tr>\n",
       "      <th>229</th>\n",
       "      <td>Schmidt, Christian</td>\n",
       "      <td>CDU/CSU</td>\n",
       "      <td>Nein</td>\n",
       "    </tr>\n",
       "  </tbody>\n",
       "</table>\n",
       "</div>"
      ],
      "text/plain": [
       "            Assemblyman    Party  Vote\n",
       "229  Schmidt, Christian  CDU/CSU  Nein"
      ]
     },
     "execution_count": 273,
     "metadata": {},
     "output_type": "execute_result"
    }
   ],
   "source": [
    "res = df[df['Assemblyman'].isin(names)]\n",
    "res"
   ]
  },
  {
   "attachments": {},
   "cell_type": "markdown",
   "metadata": {},
   "source": [
    "### Exercise 3: Stock market data\n",
    "1. Read the file `amzn.csv` into a DataFrame.\n",
    "1. Read the file `dji.csv` into a new DataFrame.\n",
    "1. Remove all columns in both DataFrames except _Adj Close_ and _Volume_.\n",
    "1. Rename columns to _Amzn Adj Close_, _Amzn Volume_, _Dji Adj Close_, _Dji Volume_."
   ]
  },
  {
   "cell_type": "code",
   "execution_count": 274,
   "metadata": {},
   "outputs": [],
   "source": [
    "# Enter your codes here...\n",
    "import pandas as pd\n",
    "\n",
    "amazon = pd.read_csv('data/amzn.csv')\n",
    "dji = pd.read_csv('data/dji.csv')"
   ]
  },
  {
   "cell_type": "code",
   "execution_count": 275,
   "metadata": {},
   "outputs": [
    {
     "data": {
      "text/html": [
       "<div>\n",
       "<style scoped>\n",
       "    .dataframe tbody tr th:only-of-type {\n",
       "        vertical-align: middle;\n",
       "    }\n",
       "\n",
       "    .dataframe tbody tr th {\n",
       "        vertical-align: top;\n",
       "    }\n",
       "\n",
       "    .dataframe thead th {\n",
       "        text-align: right;\n",
       "    }\n",
       "</style>\n",
       "<table border=\"1\" class=\"dataframe\">\n",
       "  <thead>\n",
       "    <tr style=\"text-align: right;\">\n",
       "      <th></th>\n",
       "      <th>Date</th>\n",
       "      <th>Open</th>\n",
       "      <th>High</th>\n",
       "      <th>Low</th>\n",
       "      <th>Close</th>\n",
       "      <th>Adj Close</th>\n",
       "      <th>Volume</th>\n",
       "    </tr>\n",
       "  </thead>\n",
       "  <tbody>\n",
       "    <tr>\n",
       "      <th>0</th>\n",
       "      <td>2017-02-23</td>\n",
       "      <td>857.570007</td>\n",
       "      <td>860.859985</td>\n",
       "      <td>848.000000</td>\n",
       "      <td>852.190002</td>\n",
       "      <td>852.190002</td>\n",
       "      <td>3462000</td>\n",
       "    </tr>\n",
       "    <tr>\n",
       "      <th>1</th>\n",
       "      <td>2017-02-24</td>\n",
       "      <td>844.690002</td>\n",
       "      <td>845.809998</td>\n",
       "      <td>837.750000</td>\n",
       "      <td>845.239990</td>\n",
       "      <td>845.239990</td>\n",
       "      <td>3688000</td>\n",
       "    </tr>\n",
       "    <tr>\n",
       "      <th>2</th>\n",
       "      <td>2017-02-27</td>\n",
       "      <td>842.380005</td>\n",
       "      <td>852.500000</td>\n",
       "      <td>839.669983</td>\n",
       "      <td>848.640015</td>\n",
       "      <td>848.640015</td>\n",
       "      <td>2713600</td>\n",
       "    </tr>\n",
       "    <tr>\n",
       "      <th>3</th>\n",
       "      <td>2017-02-28</td>\n",
       "      <td>851.450012</td>\n",
       "      <td>854.090027</td>\n",
       "      <td>842.049988</td>\n",
       "      <td>845.039978</td>\n",
       "      <td>845.039978</td>\n",
       "      <td>2793700</td>\n",
       "    </tr>\n",
       "    <tr>\n",
       "      <th>4</th>\n",
       "      <td>2017-03-01</td>\n",
       "      <td>853.049988</td>\n",
       "      <td>854.830017</td>\n",
       "      <td>849.010010</td>\n",
       "      <td>853.080017</td>\n",
       "      <td>853.080017</td>\n",
       "      <td>2760100</td>\n",
       "    </tr>\n",
       "  </tbody>\n",
       "</table>\n",
       "</div>"
      ],
      "text/plain": [
       "         Date        Open        High         Low       Close   Adj Close   \n",
       "0  2017-02-23  857.570007  860.859985  848.000000  852.190002  852.190002  \\\n",
       "1  2017-02-24  844.690002  845.809998  837.750000  845.239990  845.239990   \n",
       "2  2017-02-27  842.380005  852.500000  839.669983  848.640015  848.640015   \n",
       "3  2017-02-28  851.450012  854.090027  842.049988  845.039978  845.039978   \n",
       "4  2017-03-01  853.049988  854.830017  849.010010  853.080017  853.080017   \n",
       "\n",
       "    Volume  \n",
       "0  3462000  \n",
       "1  3688000  \n",
       "2  2713600  \n",
       "3  2793700  \n",
       "4  2760100  "
      ]
     },
     "execution_count": 275,
     "metadata": {},
     "output_type": "execute_result"
    }
   ],
   "source": [
    "amazon.head()"
   ]
  },
  {
   "cell_type": "code",
   "execution_count": 276,
   "metadata": {},
   "outputs": [
    {
     "data": {
      "text/html": [
       "<div>\n",
       "<style scoped>\n",
       "    .dataframe tbody tr th:only-of-type {\n",
       "        vertical-align: middle;\n",
       "    }\n",
       "\n",
       "    .dataframe tbody tr th {\n",
       "        vertical-align: top;\n",
       "    }\n",
       "\n",
       "    .dataframe thead th {\n",
       "        text-align: right;\n",
       "    }\n",
       "</style>\n",
       "<table border=\"1\" class=\"dataframe\">\n",
       "  <thead>\n",
       "    <tr style=\"text-align: right;\">\n",
       "      <th></th>\n",
       "      <th>Date</th>\n",
       "      <th>Open</th>\n",
       "      <th>High</th>\n",
       "      <th>Low</th>\n",
       "      <th>Close</th>\n",
       "      <th>Adj Close</th>\n",
       "      <th>Volume</th>\n",
       "    </tr>\n",
       "  </thead>\n",
       "  <tbody>\n",
       "    <tr>\n",
       "      <th>0</th>\n",
       "      <td>2005-01-28</td>\n",
       "      <td>10470.580078</td>\n",
       "      <td>10488.389648</td>\n",
       "      <td>10386.559570</td>\n",
       "      <td>10427.200195</td>\n",
       "      <td>10427.200195</td>\n",
       "      <td>358720000</td>\n",
       "    </tr>\n",
       "    <tr>\n",
       "      <th>1</th>\n",
       "      <td>2005-01-31</td>\n",
       "      <td>10428.759766</td>\n",
       "      <td>10510.190430</td>\n",
       "      <td>10428.759766</td>\n",
       "      <td>10489.940430</td>\n",
       "      <td>10489.940430</td>\n",
       "      <td>298060000</td>\n",
       "    </tr>\n",
       "    <tr>\n",
       "      <th>2</th>\n",
       "      <td>2005-02-01</td>\n",
       "      <td>10489.719727</td>\n",
       "      <td>10570.259766</td>\n",
       "      <td>10489.639648</td>\n",
       "      <td>10551.940430</td>\n",
       "      <td>10551.940430</td>\n",
       "      <td>283800000</td>\n",
       "    </tr>\n",
       "    <tr>\n",
       "      <th>3</th>\n",
       "      <td>2005-02-02</td>\n",
       "      <td>10551.049805</td>\n",
       "      <td>10616.370117</td>\n",
       "      <td>10544.480469</td>\n",
       "      <td>10596.790039</td>\n",
       "      <td>10596.790039</td>\n",
       "      <td>279860000</td>\n",
       "    </tr>\n",
       "    <tr>\n",
       "      <th>4</th>\n",
       "      <td>2005-02-03</td>\n",
       "      <td>10592.209961</td>\n",
       "      <td>10601.150391</td>\n",
       "      <td>10550.089844</td>\n",
       "      <td>10593.099609</td>\n",
       "      <td>10593.099609</td>\n",
       "      <td>229000000</td>\n",
       "    </tr>\n",
       "  </tbody>\n",
       "</table>\n",
       "</div>"
      ],
      "text/plain": [
       "         Date          Open          High           Low         Close   \n",
       "0  2005-01-28  10470.580078  10488.389648  10386.559570  10427.200195  \\\n",
       "1  2005-01-31  10428.759766  10510.190430  10428.759766  10489.940430   \n",
       "2  2005-02-01  10489.719727  10570.259766  10489.639648  10551.940430   \n",
       "3  2005-02-02  10551.049805  10616.370117  10544.480469  10596.790039   \n",
       "4  2005-02-03  10592.209961  10601.150391  10550.089844  10593.099609   \n",
       "\n",
       "      Adj Close     Volume  \n",
       "0  10427.200195  358720000  \n",
       "1  10489.940430  298060000  \n",
       "2  10551.940430  283800000  \n",
       "3  10596.790039  279860000  \n",
       "4  10593.099609  229000000  "
      ]
     },
     "execution_count": 276,
     "metadata": {},
     "output_type": "execute_result"
    }
   ],
   "source": [
    "dji.head()"
   ]
  },
  {
   "cell_type": "code",
   "execution_count": 277,
   "metadata": {},
   "outputs": [],
   "source": [
    "# Dropping unwanted columns along axis 1\n",
    "amazon = amazon.drop(['Date', 'Open', 'High', 'Low', 'Close'], axis = 1)\n",
    "dji = dji.drop(['Date', 'Open', 'High', 'Low', 'Close'], axis = 1)"
   ]
  },
  {
   "cell_type": "code",
   "execution_count": 278,
   "metadata": {},
   "outputs": [
    {
     "data": {
      "text/html": [
       "<div>\n",
       "<style scoped>\n",
       "    .dataframe tbody tr th:only-of-type {\n",
       "        vertical-align: middle;\n",
       "    }\n",
       "\n",
       "    .dataframe tbody tr th {\n",
       "        vertical-align: top;\n",
       "    }\n",
       "\n",
       "    .dataframe thead th {\n",
       "        text-align: right;\n",
       "    }\n",
       "</style>\n",
       "<table border=\"1\" class=\"dataframe\">\n",
       "  <thead>\n",
       "    <tr style=\"text-align: right;\">\n",
       "      <th></th>\n",
       "      <th>Amzn Adj Close</th>\n",
       "      <th>Amzn Volume</th>\n",
       "    </tr>\n",
       "  </thead>\n",
       "  <tbody>\n",
       "    <tr>\n",
       "      <th>0</th>\n",
       "      <td>852.190002</td>\n",
       "      <td>3462000</td>\n",
       "    </tr>\n",
       "    <tr>\n",
       "      <th>1</th>\n",
       "      <td>845.239990</td>\n",
       "      <td>3688000</td>\n",
       "    </tr>\n",
       "    <tr>\n",
       "      <th>2</th>\n",
       "      <td>848.640015</td>\n",
       "      <td>2713600</td>\n",
       "    </tr>\n",
       "    <tr>\n",
       "      <th>3</th>\n",
       "      <td>845.039978</td>\n",
       "      <td>2793700</td>\n",
       "    </tr>\n",
       "    <tr>\n",
       "      <th>4</th>\n",
       "      <td>853.080017</td>\n",
       "      <td>2760100</td>\n",
       "    </tr>\n",
       "  </tbody>\n",
       "</table>\n",
       "</div>"
      ],
      "text/plain": [
       "   Amzn Adj Close  Amzn Volume\n",
       "0      852.190002      3462000\n",
       "1      845.239990      3688000\n",
       "2      848.640015      2713600\n",
       "3      845.039978      2793700\n",
       "4      853.080017      2760100"
      ]
     },
     "execution_count": 278,
     "metadata": {},
     "output_type": "execute_result"
    }
   ],
   "source": [
    "# renaming\n",
    "amzn = amazon.rename(columns={\"Adj Close\": \"Amzn Adj Close\",\n",
    "                            \"Volume\": \"Amzn Volume\"})\n",
    "dow = dji.rename(columns={\"Adj Close\": \"Dji Adj Close\",\n",
    "                          \"Volume\": \"Dji Volume\"})\n",
    "amzn.head()"
   ]
  },
  {
   "attachments": {},
   "cell_type": "markdown",
   "metadata": {},
   "source": [
    "### Exercise 4: Performances\n",
    "1. Concatenate both DataFrames along the _Date_ (rows) axis.\n",
    "1. Remove all rows which contain no data for Amazon.\n",
    "1. Let _Adj Close_ (2017-02-23) be the reference price (the base). Add two columns which give the _Adj Close_ as a percentage of the reference price.\n",
    "1. Add a column that contains the 10-days-rolling-correlation between the _Adj Close_ of Amazon and the Dji.\n",
    "1. Calculate the mean of the correlation columns."
   ]
  },
  {
   "cell_type": "code",
   "execution_count": 279,
   "metadata": {},
   "outputs": [
    {
     "data": {
      "text/html": [
       "<div>\n",
       "<style scoped>\n",
       "    .dataframe tbody tr th:only-of-type {\n",
       "        vertical-align: middle;\n",
       "    }\n",
       "\n",
       "    .dataframe tbody tr th {\n",
       "        vertical-align: top;\n",
       "    }\n",
       "\n",
       "    .dataframe thead th {\n",
       "        text-align: right;\n",
       "    }\n",
       "</style>\n",
       "<table border=\"1\" class=\"dataframe\">\n",
       "  <thead>\n",
       "    <tr style=\"text-align: right;\">\n",
       "      <th></th>\n",
       "      <th>Amzn Adj Close</th>\n",
       "      <th>Amzn Volume</th>\n",
       "      <th>Dji Adj Close</th>\n",
       "      <th>Dji Volume</th>\n",
       "      <th>Amzn Percentage</th>\n",
       "      <th>Dji Percentage</th>\n",
       "    </tr>\n",
       "  </thead>\n",
       "  <tbody>\n",
       "    <tr>\n",
       "      <th>0</th>\n",
       "      <td>852.190002</td>\n",
       "      <td>3462000.0</td>\n",
       "      <td>10427.200195</td>\n",
       "      <td>358720000</td>\n",
       "      <td>100.000000</td>\n",
       "      <td>100.000000</td>\n",
       "    </tr>\n",
       "    <tr>\n",
       "      <th>1</th>\n",
       "      <td>845.239990</td>\n",
       "      <td>3688000.0</td>\n",
       "      <td>10489.940430</td>\n",
       "      <td>298060000</td>\n",
       "      <td>99.184453</td>\n",
       "      <td>100.601698</td>\n",
       "    </tr>\n",
       "    <tr>\n",
       "      <th>2</th>\n",
       "      <td>848.640015</td>\n",
       "      <td>2713600.0</td>\n",
       "      <td>10551.940430</td>\n",
       "      <td>283800000</td>\n",
       "      <td>99.583428</td>\n",
       "      <td>101.196297</td>\n",
       "    </tr>\n",
       "    <tr>\n",
       "      <th>3</th>\n",
       "      <td>845.039978</td>\n",
       "      <td>2793700.0</td>\n",
       "      <td>10596.790039</td>\n",
       "      <td>279860000</td>\n",
       "      <td>99.160982</td>\n",
       "      <td>101.626418</td>\n",
       "    </tr>\n",
       "    <tr>\n",
       "      <th>4</th>\n",
       "      <td>853.080017</td>\n",
       "      <td>2760100.0</td>\n",
       "      <td>10593.099609</td>\n",
       "      <td>229000000</td>\n",
       "      <td>100.104439</td>\n",
       "      <td>101.591025</td>\n",
       "    </tr>\n",
       "  </tbody>\n",
       "</table>\n",
       "</div>"
      ],
      "text/plain": [
       "   Amzn Adj Close  Amzn Volume  Dji Adj Close  Dji Volume  Amzn Percentage   \n",
       "0      852.190002    3462000.0   10427.200195   358720000       100.000000  \\\n",
       "1      845.239990    3688000.0   10489.940430   298060000        99.184453   \n",
       "2      848.640015    2713600.0   10551.940430   283800000        99.583428   \n",
       "3      845.039978    2793700.0   10596.790039   279860000        99.160982   \n",
       "4      853.080017    2760100.0   10593.099609   229000000       100.104439   \n",
       "\n",
       "   Dji Percentage  \n",
       "0      100.000000  \n",
       "1      100.601698  \n",
       "2      101.196297  \n",
       "3      101.626418  \n",
       "4      101.591025  "
      ]
     },
     "execution_count": 279,
     "metadata": {},
     "output_type": "execute_result"
    }
   ],
   "source": [
    "# concatenate both dataframes\n",
    "df = pd.concat([amzn, dow], axis =1)\n",
    "\n",
    "# drop unwanted columns\n",
    "df = df.dropna(axis = 0, how = 'any' )\n",
    "\n",
    "# adjust close as percentage\n",
    "df['Amzn Percentage'] = df['Amzn Adj Close']/df['Amzn Adj Close'][0]*100\n",
    "df['Dji Percentage'] = df['Dji Adj Close']/df['Dji Adj Close'][0]*100\n",
    "\n",
    "df.head()"
   ]
  },
  {
   "cell_type": "code",
   "execution_count": 280,
   "metadata": {},
   "outputs": [
    {
     "name": "stdout",
     "output_type": "stream",
     "text": [
      "-0.006795699895390638\n"
     ]
    }
   ],
   "source": [
    "# 10 days rolling correlation\n",
    "df['Corr'] = df['Amzn Adj Close'].rolling(window = 10).corr(df['Dji Adj Close'])\n",
    "\n",
    "print(df['Corr'].mean())\n"
   ]
  },
  {
   "attachments": {},
   "cell_type": "markdown",
   "metadata": {},
   "source": [
    "### Exercise 5: Simple trading algorithm\n",
    "Consider the Amazon DataFrame.\n",
    "\n",
    "1. Add two columns containing the upper and lower Bollinger Band (10-days-rolling-mean +/- standard deviation of the 10-days-rolling-mean).\n",
    "1. Add a column which says `BUY` if the _Adj Close_ breaks through the lower band (coming from below the lower band) and says `SELL` if the _Adj Close_ falls below the upper band (coming from above the upper band).\n",
    "1. Write a function that you provide with an initial investment and that computes the total return of investment based on the signals `BUY` and `SELL`.\n",
    "    1. Specify the amount of money to invest at the beginning.\n",
    "    1. At every `BUY` signal, you spend the total amount of your money to buy Amazon stocks.\n",
    "    1. At every `SELL` signal, you sell all stocks again.\n",
    "    1. At the end of the full period, compute the total return."
   ]
  },
  {
   "cell_type": "code",
   "execution_count": 287,
   "metadata": {},
   "outputs": [],
   "source": [
    "amzn[\"Rolling\"] = amzn[\"Amzn Adj Close\"].rolling(window=10).mean()\n",
    "amzn[\"Std\"] = amzn[\"Amzn Adj Close\"].rolling(window=10).std()\n",
    "amzn[\"Upper\"] = amzn[\"Rolling\"] + amzn[\"Std\"]\n",
    "amzn[\"Lower\"] = amzn[\"Rolling\"] - amzn[\"Std\"]\n",
    "amzn[\"Trade\"] = \"\"\n"
   ]
  },
  {
   "cell_type": "code",
   "execution_count": 289,
   "metadata": {},
   "outputs": [
    {
     "data": {
      "text/plain": [
       "<Axes: >"
      ]
     },
     "execution_count": 289,
     "metadata": {},
     "output_type": "execute_result"
    },
    {
     "data": {
      "image/png": "[encoded data removed]",
      "text/plain": [
       "<Figure size 800x800 with 1 Axes>"
      ]
     },
     "metadata": {},
     "output_type": "display_data"
    }
   ],
   "source": [
    "import matplotlib.pyplot as plt\n",
    "%matplotlib inline\n",
    "\n",
    "amzn[[\"Lower\", \"Amzn Adj Close\", \"Upper\"]].plot(figsize=(8,8))"
   ]
  },
  {
   "cell_type": "code",
   "execution_count": null,
   "metadata": {},
   "outputs": [],
   "source": [
    "fig = plt.figure()\n",
    "ax"
   ]
  }
 ],
 "metadata": {
  "kernelspec": {
   "display_name": "Python 3",
   "language": "python",
   "name": "python3"
  },
  "language_info": {
   "codemirror_mode": {
    "name": "ipython",
    "version": 3
   },
   "file_extension": ".py",
   "mimetype": "text/x-python",
   "name": "python",
   "nbconvert_exporter": "python",
   "pygments_lexer": "ipython3",
   "version": "3.11.1"
  }
 },
 "nbformat": 4,
 "nbformat_minor": 2
}
